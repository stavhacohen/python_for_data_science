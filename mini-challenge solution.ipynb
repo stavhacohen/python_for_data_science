{
 "cells": [
  {
   "cell_type": "code",
   "execution_count": 39,
   "metadata": {},
   "outputs": [
    {
     "data": {
      "text/plain": [
       "0    1990\n",
       "1    1994\n",
       "2    1998\n",
       "3    2002\n",
       "4    2006\n",
       "5    2010\n",
       "6    2014\n",
       "Name: year, dtype: int32"
      ]
     },
     "execution_count": 39,
     "metadata": {},
     "output_type": "execute_result"
    }
   ],
   "source": [
    "import numpy as np\n",
    "import pandas as pd\n",
    "\n",
    "# data of world cup year and the scored goals in the tournament\n",
    "year = [1990,1994,1998,2002,2006,2010,2014]\n",
    "goals = [115,141,171,161,147,145,171]\n",
    "# convert list into array of arrays\n",
    "my_data = np.array([year,goals])\n",
    "# create a pandas data frame based on the numpy array\n",
    "df = pd.DataFrame(my_data)\n",
    "# transpose the data\n",
    "df = df.T\n",
    "# change columns names\n",
    "df.columns = ['year','goals_scored']\n",
    "df.year"
   ]
  },
  {
   "cell_type": "code",
   "execution_count": 40,
   "metadata": {},
   "outputs": [
    {
     "data": {
      "text/plain": [
       "156.0"
      ]
     },
     "execution_count": 40,
     "metadata": {},
     "output_type": "execute_result"
    }
   ],
   "source": [
    "# get the average goals scored on world cups later than 2000\n",
    "df[df.year>2000].goals_scored.mean()"
   ]
  },
  {
   "cell_type": "code",
   "execution_count": null,
   "metadata": {
    "collapsed": true
   },
   "outputs": [],
   "source": []
  }
 ],
 "metadata": {
  "kernelspec": {
   "display_name": "Python 3",
   "language": "python",
   "name": "python3"
  },
  "language_info": {
   "codemirror_mode": {
    "name": "ipython",
    "version": 3
   },
   "file_extension": ".py",
   "mimetype": "text/x-python",
   "name": "python",
   "nbconvert_exporter": "python",
   "pygments_lexer": "ipython3",
   "version": "3.6.2"
  }
 },
 "nbformat": 4,
 "nbformat_minor": 2
}
